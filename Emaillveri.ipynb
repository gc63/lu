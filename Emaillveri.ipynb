{
 "cells": [
  {
   "cell_type": "code",
   "execution_count": 1,
   "metadata": {},
   "outputs": [],
   "source": [
    "import pandas as pd\n",
    "from sklearn.model_selection import train_test_split\n",
    "from sklearn.preprocessing import StandardScaler\n",
    "from sklearn.neighbors import KNeighborsClassifier\n",
    "from sklearn.svm import SVC\n",
    "from sklearn.metrics import classification_report, accuracy_score, confusion_matrix"
   ]
  },
  {
   "cell_type": "code",
   "execution_count": 2,
   "metadata": {},
   "outputs": [],
   "source": [
    "df=pd.read_csv('emails.csv')\n",
    "data=df"
   ]
  },
  {
   "cell_type": "code",
   "execution_count": 3,
   "metadata": {},
   "outputs": [],
   "source": [
    "X=data.iloc[:,1:-1].values\n",
    "y=data.iloc[:,-1].values"
   ]
  },
  {
   "cell_type": "code",
   "execution_count": 4,
   "metadata": {},
   "outputs": [],
   "source": [
    "X_train,X_test,y_train,y_test = train_test_split(X,y,test_size=0.3,random_state=42)"
   ]
  },
  {
   "cell_type": "code",
   "execution_count": 5,
   "metadata": {},
   "outputs": [],
   "source": [
    "scaler = StandardScaler()\n",
    "X_train= scaler.fit_transform(X_train)\n",
    "X_test=scaler.transform(X_test)"
   ]
  },
  {
   "cell_type": "code",
   "execution_count": 6,
   "metadata": {},
   "outputs": [],
   "source": [
    "knn=KNeighborsClassifier(n_neighbors=5)\n",
    "knn.fit(X_train,y_train)\n",
    "y_pred_knn=knn.predict(X_test)"
   ]
  },
  {
   "cell_type": "code",
   "execution_count": 7,
   "metadata": {},
   "outputs": [],
   "source": [
    "svm=SVC(kernel='linear',random_state=42)\n",
    "svm.fit(X_train,y_train)\n",
    "y_pred_svm=svm.predict(X_test)"
   ]
  },
  {
   "cell_type": "code",
   "execution_count": 8,
   "metadata": {},
   "outputs": [
    {
     "name": "stdout",
     "output_type": "stream",
     "text": [
      "K-Nearest Neighbors:\n",
      "Accuracy:{accuracy_score(y_test,y_pred_knn)}\n",
      "Classification report:               precision    recall  f1-score   support\n",
      "\n",
      "           0       0.98      0.77      0.86      1097\n",
      "           1       0.63      0.96      0.76       455\n",
      "\n",
      "    accuracy                           0.83      1552\n",
      "   macro avg       0.81      0.86      0.81      1552\n",
      "weighted avg       0.88      0.83      0.83      1552\n",
      "\n",
      "confusion matrix: [[846 251]\n",
      " [ 20 435]]\n",
      "SVM\n",
      "Accuracy:{accuracy_score(y_test,y_pred_svm)}\n",
      "Classification report:               precision    recall  f1-score   support\n",
      "\n",
      "           0       0.96      0.95      0.96      1097\n",
      "           1       0.89      0.91      0.90       455\n",
      "\n",
      "    accuracy                           0.94      1552\n",
      "   macro avg       0.92      0.93      0.93      1552\n",
      "weighted avg       0.94      0.94      0.94      1552\n",
      "\n",
      "confusion matrix: [[1043   54]\n",
      " [  39  416]]\n"
     ]
    }
   ],
   "source": [
    "print(\"K-Nearest Neighbors:\")\n",
    "print(\"Accuracy:{accuracy_score(y_test,y_pred_knn)}\")\n",
    "print(\"Classification report:\", classification_report(y_test,y_pred_knn))\n",
    "print(\"confusion matrix:\", confusion_matrix(y_test,y_pred_knn))\n",
    "\n",
    "print(\"SVM\")\n",
    "print(\"Accuracy:{accuracy_score(y_test,y_pred_svm)}\")\n",
    "print(\"Classification report:\", classification_report(y_test,y_pred_svm))\n",
    "print(\"confusion matrix:\", confusion_matrix(y_test,y_pred_svm))"
   ]
  },
  {
   "cell_type": "code",
   "execution_count": 9,
   "metadata": {},
   "outputs": [
    {
     "name": "stdout",
     "output_type": "stream",
     "text": [
      "svm performed\n"
     ]
    }
   ],
   "source": [
    "if accuracy_score(y_test,y_pred_knn)>accuracy_score(y_test,y_pred_svm):\n",
    "    print(\"performed better\")\n",
    "\n",
    "else:\n",
    "    print(\"svm performed\")"
   ]
  },
  {
   "cell_type": "code",
   "execution_count": null,
   "metadata": {},
   "outputs": [],
   "source": []
  },
  {
   "cell_type": "code",
   "execution_count": null,
   "metadata": {},
   "outputs": [],
   "source": []
  },
  {
   "cell_type": "code",
   "execution_count": null,
   "metadata": {},
   "outputs": [],
   "source": []
  },
  {
   "cell_type": "code",
   "execution_count": null,
   "metadata": {},
   "outputs": [],
   "source": []
  }
 ],
 "metadata": {
  "kernelspec": {
   "display_name": "Python 3",
   "language": "python",
   "name": "python3"
  },
  "language_info": {
   "codemirror_mode": {
    "name": "ipython",
    "version": 3
   },
   "file_extension": ".py",
   "mimetype": "text/x-python",
   "name": "python",
   "nbconvert_exporter": "python",
   "pygments_lexer": "ipython3",
   "version": "3.11.3"
  }
 },
 "nbformat": 4,
 "nbformat_minor": 2
}
